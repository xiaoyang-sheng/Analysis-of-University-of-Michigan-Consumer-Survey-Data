{
 "cells": [
  {
   "cell_type": "code",
   "execution_count": 22,
   "metadata": {
    "collapsed": false,
    "jupyter": {
     "outputs_hidden": false
    }
   },
   "outputs": [],
   "source": [
    "import pandas as pd\n",
    "import numpy as np\n",
    "from scipy import stats\n",
    "from sklearn.impute import KNNImputer\n",
    "from sklearn.model_selection import train_test_split\n",
    "from sklearn.linear_model import Ridge\n",
    "from sklearn.ensemble import RandomForestRegressor\n",
    "from xgboost import XGBRegressor\n",
    "from sklearn.metrics import mean_squared_error\n",
    "from sklearn.metrics import r2_score\n",
    "import matplotlib.pyplot as plt\n",
    "import math"
   ]
  },
  {
   "cell_type": "markdown",
   "metadata": {},
   "source": [
    "## fill up the NaN"
   ]
  },
  {
   "cell_type": "code",
   "execution_count": 23,
   "metadata": {
    "collapsed": false,
    "jupyter": {
     "outputs_hidden": false
    }
   },
   "outputs": [
    {
     "name": "stderr",
     "output_type": "stream",
     "text": [
      "<ipython-input-23-d0a0d9f92508>:6: SettingWithCopyWarning: \n",
      "A value is trying to be set on a copy of a slice from a DataFrame.\n",
      "Try using .loc[row_indexer,col_indexer] = value instead\n",
      "\n",
      "See the caveats in the documentation: https://pandas.pydata.org/pandas-docs/stable/user_guide/indexing.html#returning-a-view-versus-a-copy\n",
      "  df_new['BUS5'] = df_new['BUS5']/5\n",
      "<ipython-input-23-d0a0d9f92508>:7: SettingWithCopyWarning: \n",
      "A value is trying to be set on a copy of a slice from a DataFrame.\n",
      "Try using .loc[row_indexer,col_indexer] = value instead\n",
      "\n",
      "See the caveats in the documentation: https://pandas.pydata.org/pandas-docs/stable/user_guide/indexing.html#returning-a-view-versus-a-copy\n",
      "  df_new['NEWS1'] = df_new['NEWS1']/10\n",
      "<ipython-input-23-d0a0d9f92508>:8: SettingWithCopyWarning: \n",
      "A value is trying to be set on a copy of a slice from a DataFrame.\n",
      "Try using .loc[row_indexer,col_indexer] = value instead\n",
      "\n",
      "See the caveats in the documentation: https://pandas.pydata.org/pandas-docs/stable/user_guide/indexing.html#returning-a-view-versus-a-copy\n",
      "  df_new['EGRADE'] = df_new['EGRADE']/5\n",
      "<ipython-input-23-d0a0d9f92508>:9: SettingWithCopyWarning: \n",
      "A value is trying to be set on a copy of a slice from a DataFrame.\n",
      "Try using .loc[row_indexer,col_indexer] = value instead\n",
      "\n",
      "See the caveats in the documentation: https://pandas.pydata.org/pandas-docs/stable/user_guide/indexing.html#returning-a-view-versus-a-copy\n",
      "  df_new['INCOME'] = df_new['INCOME']/10000\n",
      "<ipython-input-23-d0a0d9f92508>:10: SettingWithCopyWarning: \n",
      "A value is trying to be set on a copy of a slice from a DataFrame.\n",
      "Try using .loc[row_indexer,col_indexer] = value instead\n",
      "\n",
      "See the caveats in the documentation: https://pandas.pydata.org/pandas-docs/stable/user_guide/indexing.html#returning-a-view-versus-a-copy\n",
      "  df_new['PSSA'] = df_new['PSSA']/10\n",
      "<ipython-input-23-d0a0d9f92508>:11: SettingWithCopyWarning: \n",
      "A value is trying to be set on a copy of a slice from a DataFrame.\n",
      "Try using .loc[row_indexer,col_indexer] = value instead\n",
      "\n",
      "See the caveats in the documentation: https://pandas.pydata.org/pandas-docs/stable/user_guide/indexing.html#returning-a-view-versus-a-copy\n",
      "  df_new['GAS1'] = df_new['GAS1']/10\n"
     ]
    }
   ],
   "source": [
    "np.random.seed(2)\n",
    "# After reading the csv file, first we need to fill up the NaN by some method. df_filled is the final filled dataframe, which we work on further.\n",
    "df = pd.read_csv('final_cleaned_data.csv')\n",
    "df_new = df[['BUS5','NEWS1','UNEMP','PX1Q1','NUMKID','EGRADE',\n",
    "            'HOM','CAR','INCOME','VEHNUM','PSSA','PCRY','GAS1']]\n",
    "df_new['BUS5'] = df_new['BUS5']/5\n",
    "df_new['NEWS1'] = df_new['NEWS1']/10\n",
    "df_new['EGRADE'] = df_new['EGRADE']/5\n",
    "df_new['INCOME'] = df_new['INCOME']/10000\n",
    "df_new['PSSA'] = df_new['PSSA']/10\n",
    "df_new['GAS1'] = df_new['GAS1']/10\n",
    "imputer = KNNImputer(n_neighbors=2)\n",
    "df_filled = pd.DataFrame(imputer.fit_transform(df_new), columns=df_new.columns)\n",
    "df_filled['BUS5'] = df_filled['BUS5']*5\n",
    "df_filled['NEWS1'] = df_filled['NEWS1']*10\n",
    "df_filled['EGRADE'] = df_filled['EGRADE']*5\n",
    "df_filled['INCOME'] = df_filled['INCOME']*10000\n",
    "df_filled['PSSA'] = df_filled['PSSA']*10\n",
    "df_filled['GAS1'] = df_filled['GAS1']*10\n",
    "df_filled = df_filled.join(df['YYYYQ'])\n",
    "df_filled = df_filled.join(df['gdp_increase_rate'])"
   ]
  },
  {
   "cell_type": "markdown",
   "metadata": {},
   "source": [
    "## load data"
   ]
  },
  {
   "cell_type": "code",
   "execution_count": 24,
   "metadata": {
    "collapsed": false,
    "jupyter": {
     "outputs_hidden": false
    }
   },
   "outputs": [],
   "source": [
    "data = df_filled.dropna()"
   ]
  },
  {
   "cell_type": "code",
   "execution_count": 25,
   "metadata": {
    "collapsed": false,
    "jupyter": {
     "outputs_hidden": false
    }
   },
   "outputs": [],
   "source": [
    "# get the X and Y\n",
    "X = data.iloc[:, :-2]\n",
    "Y = data['gdp_increase_rate']\n",
    "\n",
    "# standardize the x variables\n",
    "for col in X.columns:\n",
    "    X[col] = stats.zscore(X[col])"
   ]
  },
  {
   "cell_type": "code",
   "execution_count": 26,
   "metadata": {
    "collapsed": false,
    "jupyter": {
     "outputs_hidden": false
    }
   },
   "outputs": [],
   "source": [
    "# split the dataset into train set and test set for validation.\n",
    "x_train, x_test, y_train, y_test = train_test_split(X, Y, test_size = 0.2, random_state = 1)\n"
   ]
  },
  {
   "cell_type": "markdown",
   "metadata": {},
   "source": [
    "## model training\n"
   ]
  },
  {
   "cell_type": "code",
   "execution_count": 27,
   "metadata": {
    "collapsed": false,
    "jupyter": {
     "outputs_hidden": false
    }
   },
   "outputs": [],
   "source": [
    "# function to choose the best params for each model\n",
    "# input potential param candidate list, mse_list and r2_list.\n",
    "def para_selection(para_list, mse_list, r2_list):\n",
    "    df = pd.DataFrame([para_list, mse_list, r2_list], index = ['parameter', 'mse', 'r2'])\n",
    "    df = df.T\n",
    "    df_selected = df.loc[df['mse'] == min(df['mse'])]\n",
    "    print(df_selected)\n",
    "    para = df_selected.iloc[0, 0]\n",
    "    mse = df_selected.iloc[0, 1]\n",
    "    r2 = df_selected.iloc[0, 2]\n",
    "    return para, mse, r2"
   ]
  },
  {
   "cell_type": "code",
   "execution_count": 28,
   "metadata": {
    "collapsed": false,
    "jupyter": {
     "outputs_hidden": false
    }
   },
   "outputs": [],
   "source": [
    "# function to predict\n",
    "# input: the \"fitted\" model, and the test set of x\n",
    "def ml_prediction(model, x_test):\n",
    "    y_test_pred = model.predict(x_test)\n",
    "    return y_test_pred"
   ]
  },
  {
   "cell_type": "markdown",
   "metadata": {},
   "source": [
    "### Ridge\n"
   ]
  },
  {
   "cell_type": "code",
   "execution_count": 29,
   "metadata": {
    "collapsed": false,
    "jupyter": {
     "outputs_hidden": false
    }
   },
   "outputs": [],
   "source": [
    "mse_list = []\n",
    "r2_list = []\n",
    "alphas = np.arange(0.01, 1.01, 0.01) # the potential candidate for the params\n",
    "for alpha in alphas:\n",
    "    ridge = Ridge(alpha = alpha)\n",
    "    ridge.fit(x_train, y_train)\n",
    "    y_test_pred = ridge.predict(x_test)\n",
    "    mse_list.append(mean_squared_error(y_test, y_test_pred))\n",
    "    r2_list.append(r2_score(y_test, y_test_pred))"
   ]
  },
  {
   "cell_type": "code",
   "execution_count": 30,
   "metadata": {
    "collapsed": false,
    "jupyter": {
     "outputs_hidden": false
    }
   },
   "outputs": [
    {
     "name": "stdout",
     "output_type": "stream",
     "text": [
      "    parameter       mse        r2\n",
      "99        1.0  0.000043  0.393953\n"
     ]
    }
   ],
   "source": [
    "alpha, mse, r2 = para_selection(alphas, mse_list, r2_list) # here alpha is the best params\n",
    "ridge_model = Ridge(alpha = alpha) # set up the model (but does not fit yet, the fitting is at the below)"
   ]
  },
  {
   "cell_type": "markdown",
   "metadata": {},
   "source": [
    "### random forest\n"
   ]
  },
  {
   "cell_type": "code",
   "execution_count": 43,
   "metadata": {
    "collapsed": false,
    "jupyter": {
     "outputs_hidden": false
    }
   },
   "outputs": [
    {
     "data": {
      "text/plain": [
       "<Figure size 432x288 with 0 Axes>"
      ]
     },
     "metadata": {},
     "output_type": "display_data"
    }
   ],
   "source": [
    "mse_list = []\n",
    "r2_list = []\n",
    "n_est = range(10, 100)\n",
    "for n in n_est:\n",
    "    rf = RandomForestRegressor(n_estimators = n, random_state = 1)\n",
    "    rf.fit(x_train, y_train)\n",
    "    y_test_pred = rf.predict(x_test)\n",
    "    mse_list.append(mean_squared_error(y_test, y_test_pred))\n",
    "    r2_list.append(r2_score(y_test, y_test_pred))\n",
    "\n",
    "plt.plot(n_est, mse_list)\n",
    "plt.title(\"Random Forest Model\")\n",
    "plt.ylabel('MSE',fontsize=14)\n",
    "plt.xlabel('Number of Estimators',fontsize=14)\n",
    "plt.savefig(\"rf_new.png\",pad_inches=0.2,dpi=200,bbox_inches='tight')\n",
    "plt.clf()\n",
    "# the plot below is the MSE v.s. n_estimators, from which we pick the param that minimizes the MSE."
   ]
  },
  {
   "cell_type": "code",
   "execution_count": 32,
   "metadata": {
    "collapsed": false,
    "jupyter": {
     "outputs_hidden": false
    }
   },
   "outputs": [
    {
     "name": "stdout",
     "output_type": "stream",
     "text": [
      "   parameter       mse        r2\n",
      "2       12.0  0.000038  0.462958\n"
     ]
    }
   ],
   "source": [
    "n, mse, r2 = para_selection(n_est, mse_list, r2_list)\n",
    "rf_model = RandomForestRegressor(n_estimators = int(n), random_state = 1)\n",
    "# again, set up the model, but not fitted."
   ]
  },
  {
   "cell_type": "markdown",
   "metadata": {},
   "source": [
    "### XGBoost\n"
   ]
  },
  {
   "cell_type": "code",
   "execution_count": 42,
   "metadata": {
    "collapsed": false,
    "jupyter": {
     "outputs_hidden": false
    }
   },
   "outputs": [
    {
     "data": {
      "text/plain": [
       "<Figure size 432x288 with 0 Axes>"
      ]
     },
     "metadata": {},
     "output_type": "display_data"
    }
   ],
   "source": [
    "mse_list = []\n",
    "r2_list = []\n",
    "etas = np.linspace(0.1, 1.5, 200)\n",
    "for eta in etas:\n",
    "    xgb = XGBRegressor(eta = eta, n_estimators = 100, random_state = 1)\n",
    "    xgb.fit(x_train, y_train)\n",
    "    y_test_pred = xgb.predict(x_test)\n",
    "    mse_list.append(mean_squared_error(y_test, y_test_pred))\n",
    "    r2_list.append(r2_score(y_test, y_test_pred))\n",
    "\n",
    "# the plot below is the MSE v.s. etas, from which we pick the param that minimizes the MSE.\n",
    "plt.plot(etas, mse_list)\n",
    "plt.title(\"XG BOOST Model\")\n",
    "plt.xlabel('ETAs',fontsize=14)\n",
    "plt.ylabel('MSE',fontsize=14)\n",
    "\n",
    "plt.savefig(\"xg_new.png\",dpi=200,bbox_inches='tight')\n",
    "plt.clf()"
   ]
  },
  {
   "cell_type": "code",
   "execution_count": 34,
   "metadata": {
    "collapsed": false,
    "jupyter": {
     "outputs_hidden": false
    }
   },
   "outputs": [
    {
     "name": "stdout",
     "output_type": "stream",
     "text": [
      "    parameter       mse        r2\n",
      "23   0.261809  0.000033  0.534914\n"
     ]
    }
   ],
   "source": [
    "eta, mse, r2 = para_selection(etas, mse_list, r2_list)\n",
    "xgb_model = XGBRegressor(eta = eta, n_estimators = 100, random_state = 1)"
   ]
  },
  {
   "cell_type": "markdown",
   "metadata": {},
   "source": [
    "From the training and validation above, xgboost is the best model and we use it for future prediction.\n",
    "\n",
    "## Prediction"
   ]
  },
  {
   "cell_type": "code",
   "execution_count": 35,
   "metadata": {
    "collapsed": false,
    "jupyter": {
     "outputs_hidden": false
    }
   },
   "outputs": [],
   "source": [
    "# Here is the fitting action, must run before calling the predicting() function.\n",
    "xgb_model.fit(X,Y)\n",
    "# rf_model.fit(X,Y)\n",
    "# ridge_model.fit(X,Y)\n",
    "\n",
    "# Here get the x variables\n",
    "df2 = df_filled.loc[:, ~df_filled.columns.isin(['gdp_increase_rate','YYYYQ'])]\n",
    "\n",
    "\n",
    "# function to get the mean of the change rate of the column\n",
    "def get_mu(col):\n",
    "    rate = col.pct_change()\n",
    "    rate.pop(0)\n",
    "    mu = np.nanmean(rate)\n",
    "    return mu\n",
    "\n",
    "# function to get the std of the change rate of the column\n",
    "def get_std(col):\n",
    "    rate = col.pct_change()\n",
    "    rate.pop(0)\n",
    "    std = np.nanstd(rate)\n",
    "    return std\n"
   ]
  },
  {
   "cell_type": "code",
   "execution_count": 36,
   "metadata": {
    "collapsed": false,
    "jupyter": {
     "outputs_hidden": false
    }
   },
   "outputs": [],
   "source": [
    "# return the times we need to predict by receiving the string time stamp input\n",
    "# input: yearq is string of the time stamp, like '20234' for 4th quarter of 2023.\n",
    "# predicts: the pre-generated predictions for future quarters\n",
    "def predict(yearq,predicts):\n",
    "    quarter = int(yearq)\n",
    "    year = quarter//10\n",
    "    quarter = quarter%10\n",
    "    if year==2023:\n",
    "        times = quarter-1\n",
    "    else:\n",
    "        times = (year-2024)*4+3+quarter\n",
    "    return predicts[times-1]\n",
    "\n",
    "\n",
    "# df_tmp is the dataframe of the filled data\n",
    "# model is the fitted input ML model\n",
    "def predicting_gen(df_tmp,model,max_quarter=12):\n",
    "    predictions = []\n",
    "    mus = df_tmp.apply(get_mu,axis=0)\n",
    "    stds = df_tmp.apply(get_std,axis=0)\n",
    "    res = df_tmp.values[-1].tolist()\n",
    "    for i in range(max_quarter):\n",
    "        for j in range(len(mus)):\n",
    "            tmp = res[j]\n",
    "            res[j] = tmp * (1+np.random.normal(mus[j],stds[j]))\n",
    "            if math.isnan(res[j]):\n",
    "                res[j] = tmp\n",
    "        res_df = pd.DataFrame(res, index=['BUS5','NEWS1','UNEMP','PX1Q1','NUMKID','EGRADE',\n",
    "                'HOM','CAR','INCOME','VEHNUM','PSSA','PCRY','GAS1']).transpose()\n",
    "        df_all = pd.concat([df_tmp,res_df],axis=0,join='inner')\n",
    "        for col in df_all.columns:\n",
    "            df_all[col] = stats.zscore(df_all[col])\n",
    "        predictions.append(ml_prediction(model,df_all.tail(1))[0])\n",
    "    return predictions"
   ]
  },
  {
   "cell_type": "code",
   "execution_count": 37,
   "metadata": {
    "collapsed": false,
    "jupyter": {
     "outputs_hidden": false
    }
   },
   "outputs": [
    {
     "name": "stdout",
     "output_type": "stream",
     "text": [
      "[0.0038189576, 0.0035301175, 0.0017585831, 0.0024566867, 0.0041350494, 0.016022118, 0.012911082, 0.015083434, 0.018932827, -0.008756744, 0.0047494387, -0.08710402]\n"
     ]
    },
    {
     "name": "stderr",
     "output_type": "stream",
     "text": [
      "/Users/hatj/anaconda3/lib/python3.8/site-packages/numpy/lib/nanfunctions.py:1539: RuntimeWarning: invalid value encountered in subtract\n",
      "  np.subtract(arr, avg, out=arr, casting='unsafe')\n"
     ]
    }
   ],
   "source": [
    "# call the predicting_gen() to get the predicted results for maximum of 12quarters in the future , df2 is the original filled x variables dataframe, xgb_model: fitted models.\n",
    "# predict() return result is the predicted gdp change rate of the quarter.\n",
    "preds = predicting_gen(df2,xgb_model)\n",
    "print(preds)\n"
   ]
  },
  {
   "cell_type": "code",
   "execution_count": 38,
   "metadata": {},
   "outputs": [],
   "source": [
    "dict_preds = {\n",
    "    \"20232\":preds[0],\n",
    "    \"20233\":preds[1],\n",
    "    \"20234\":preds[2],\n",
    "    \"20241\":preds[3],\n",
    "    \"20242\":preds[4],\n",
    "    \"20243\":preds[5],\n",
    "    \"20244\":preds[6],\n",
    "    \"20251\":preds[7],\n",
    "    \"20252\":preds[8],\n",
    "    \"20253\":preds[9],\n",
    "    \"20254\":preds[10],\n",
    "    \"20261\":preds[11]    \n",
    "}\n",
    "def predict1(yearq):\n",
    "    if yearq in dict_preds.keys():\n",
    "        return dict_preds[yearq]\n",
    "    else:\n",
    "        raise(ValueError)"
   ]
  },
  {
   "cell_type": "code",
   "execution_count": 39,
   "metadata": {},
   "outputs": [
    {
     "name": "stdout",
     "output_type": "stream",
     "text": [
      "True\n"
     ]
    }
   ],
   "source": [
    "print(predict1('20241')==predict('20241',preds))"
   ]
  },
  {
   "cell_type": "code",
   "execution_count": null,
   "metadata": {},
   "outputs": [],
   "source": []
  }
 ],
 "metadata": {
  "kernelspec": {
   "display_name": "Python 3",
   "language": "python",
   "name": "python3"
  },
  "language_info": {
   "codemirror_mode": {
    "name": "ipython",
    "version": 3
   },
   "file_extension": ".py",
   "mimetype": "text/x-python",
   "name": "python",
   "nbconvert_exporter": "python",
   "pygments_lexer": "ipython3",
   "version": "3.8.8"
  }
 },
 "nbformat": 4,
 "nbformat_minor": 4
}
